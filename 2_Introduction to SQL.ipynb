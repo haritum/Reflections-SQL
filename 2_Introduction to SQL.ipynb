{
 "cells": [
  {
   "cell_type": "markdown",
   "metadata": {},
   "source": [
    "<span style=\"color:brown\"> __There are about 7 lessons and Project in this Chapter *Introduction to SQL*.__</span> "
   ]
  },
  {
   "cell_type": "markdown",
   "metadata": {},
   "source": [
    "***"
   ]
  },
  {
   "cell_type": "markdown",
   "metadata": {},
   "source": [
    "# <span style=\"color:blue\"> 2.1 Basic SQL </span>"
   ]
  },
  {
   "cell_type": "markdown",
   "metadata": {},
   "source": [
    "- SQL stands for Structured Query Language.\n",
    "- SQL is the language to interact with the database. \n",
    "- SQL is most popular for its interaction with databases.\n"
   ]
  },
  {
   "cell_type": "markdown",
   "metadata": {},
   "source": [
    "- In Parch & Posey database we have 5 tables/spreadsheets,\n",
    "    1. web_events\n",
    "    2. accounts\n",
    "    3. orders\n",
    "    4. sales_reps\n",
    "    5. region\n",
    "    "
   ]
  },
  {
   "cell_type": "markdown",
   "metadata": {},
   "source": [
    "## SQL to interact with single table:"
   ]
  },
  {
   "cell_type": "markdown",
   "metadata": {},
   "source": [
    "### SQL:\n",
    "A language that allows us to access data stored in a database."
   ]
  },
  {
   "cell_type": "markdown",
   "metadata": {},
   "source": [
    "### ERD:\n",
    "A diagram that shows how data is structured in a database. "
   ]
  },
  {
   "cell_type": "markdown",
   "metadata": {},
   "source": [
    "### Database:\n",
    "A collection of tables that share connected data stored in a computer. "
   ]
  },
  {
   "cell_type": "markdown",
   "metadata": {},
   "source": [
    "### Table information:\n",
    "Each table is provided with a table name and many column names."
   ]
  },
  {
   "cell_type": "markdown",
   "metadata": {},
   "source": [
    "## What are the advantages of using SQL?\n",
    "1. SQL is easy to understand.\n",
    "2. Traditional databases allow us to access data directly.\n",
    "3. Traditional databases allow us to audit and replicate our data. \n",
    "4. SQL is a great tool for analyzing multiple tables at once. \n",
    "5. SQL allows you to analyze more complex questions than dashboard tools like Goolge Analytics. "
   ]
  },
  {
   "cell_type": "markdown",
   "metadata": {},
   "source": [
    "## SQL vs no SQL"
   ]
  },
  {
   "cell_type": "markdown",
   "metadata": {},
   "source": [
    "- __SQL__ basically is used on data that lives on spreadsheets.\n",
    "- __NoSQL__ is particularly popular for web based data.\n",
    "- [_MongoDB_](https://www.udacity.com/course/data-wrangling-with-mongodb--ud032) is one of the most popular NoSQL languages."
   ]
  },
  {
   "cell_type": "markdown",
   "metadata": {},
   "source": [
    "## Why do Business like Databases?\n",
    "1. Data integrity is ensured. \n",
    "2. Data can be accessed quickly.\n",
    "3. Data is easily shared. "
   ]
  },
  {
   "cell_type": "markdown",
   "metadata": {},
   "source": [
    "## Types of Databases\n",
    "1. MySQL\n",
    "2. Access\n",
    "3. Oracle\n",
    "4. Microsoft SQL server\n",
    "5. Postgres"
   ]
  },
  {
   "cell_type": "markdown",
   "metadata": {},
   "source": [
    "Article that compares relational databases -> [click here!](https://www.digitalocean.com/community/tutorials/sqlite-vs-mysql-vs-postgresql-a-comparison-of-relational-database-management-systems)"
   ]
  },
  {
   "cell_type": "markdown",
   "metadata": {},
   "source": [
    "### SQL statements:\n",
    "Statements tell that database what you'd like to do with the data. \n",
    "1. CREATE TABLE - create a table from database (change the data in the database)\n",
    "2. DROP TABLE - remove a table from database (change the data in the database)\n",
    "3. SELECT - select a table from database (query)"
   ]
  },
  {
   "cell_type": "markdown",
   "metadata": {},
   "source": [
    "### SELECT:"
   ]
  },
  {
   "cell_type": "markdown",
   "metadata": {},
   "source": [
    "Select information from a table."
   ]
  },
  {
   "cell_type": "markdown",
   "metadata": {},
   "source": [
    "### SQL Best practices:"
   ]
  },
  {
   "cell_type": "markdown",
   "metadata": {},
   "source": [
    "- SQL queries are not case-sensitive.\n",
    "- Capitalize all SQL commands and everything else in lower case.\n",
    "- Use of semicolon at the end of each statement.\n",
    "- SQL ignores spaces.  "
   ]
  },
  {
   "cell_type": "markdown",
   "metadata": {},
   "source": [
    "### LIMIT clause:\n",
    "To limit just first n rows of the results."
   ]
  },
  {
   "cell_type": "markdown",
   "metadata": {},
   "source": [
    "### ORBER BY clause:\n",
    "- Display results in a sorted order.\n",
    "- Written in between FROM and LIMIT.\n",
    "- Order of the statements matter in SQL.\n",
    "- inc_dec = DESC, ASC (default).\n",
    "- ORDER BY column_name inc_dec"
   ]
  },
  {
   "cell_type": "markdown",
   "metadata": {},
   "source": [
    "### WHERE clause:\n",
    "- Allows to filter a set of results based on a criteria.\n",
    "- After FROM and before ORDER BY & LIMIT. \n",
    "- Operators: =, !=, >,<,>=,<=\n",
    "- Use single-quotes for string comparision.\n",
    "- For non-numeric data,\n",
    "    we use LIKE, NOT or IN operators."
   ]
  },
  {
   "cell_type": "markdown",
   "metadata": {},
   "source": [
    "### DERIVED COLUMNS:\n",
    "- New arthimatic column data saved using AS new_name.\n",
    "- +,-,*,/  are standard operations used. \n",
    "- PEDMAS order of operation. "
   ]
  },
  {
   "cell_type": "markdown",
   "metadata": {},
   "source": [
    "### LOGICAL OPERATORS:\n",
    "- **LIKE**: Same as WHERE and '='; but in cases one doesn't know what they are looking for. \n",
    "- **IN**: Same as WHERE and '='; but for more than one condition. Filter data based on several possbile values.\n",
    "- **NOT**: Used in IN and LIKE for cases such as NOT LIKE and NOT IN.\n",
    "- **AND** & **BETWEEN**: Combine operations where all the combined operations are true.\n",
    "- **OR**: Combile operations where atleast one of the combined operations are true.\n",
    "- Wildcards: %"
   ]
  },
  {
   "cell_type": "markdown",
   "metadata": {},
   "source": [
    "## <span style=\"color:green\"> Recap of Basic SQL commands </span>"
   ]
  },
  {
   "cell_type": "markdown",
   "metadata": {},
   "source": [
    "- **SELECT**: SELECT col1, col2 \n",
    "- **FROM**: FROM table\n",
    "- **LIMIT**: LIMIT 10\n",
    "- **ORDER BY**: ORDER BY col1 \n",
    "- **WHERE**: WHERE col1 > 9\n",
    "- **LIKE**: WHERE col1 LIKE '%metoo%'\n",
    "- **IN**: WHERE col IN ('Y','N')\n",
    "- **NOT**: WHERE col1 NOT IN ('Y','N')\n",
    "- **AND**: WHERE col1 > 4 AND col2 < 2\n",
    "- **OR**: WHERE col1 > 4 OR col2 < 2\n",
    "- **BETWEEN**: WHERE col1 BETWEEN 2 AND 4\n",
    "- The order of the key words does matter in SQL!"
   ]
  },
  {
   "cell_type": "markdown",
   "metadata": {},
   "source": [
    "***"
   ]
  },
  {
   "cell_type": "markdown",
   "metadata": {},
   "source": [
    "# <span style=\"color:blue\"> 2.2 SQL Joins </span>"
   ]
  },
  {
   "cell_type": "markdown",
   "metadata": {},
   "source": [
    "- Relational Databases\n",
    "- Accessing multiple tables at a time\n",
    "- [SQL Database normalization](https://www.itprotoday.com/sql-server/sql-design-why-you-need-database-normalization) to improve system performance and accuracy."
   ]
  },
  {
   "cell_type": "markdown",
   "metadata": {},
   "source": [
    "## Why is data organized by splitting into tables?\n",
    "1. Each table is organized to save different type of objects\n",
    "2. Allows execution of queries more quickly."
   ]
  },
  {
   "cell_type": "markdown",
   "metadata": {},
   "source": [
    "## JOIN caluse:\n",
    "JOIN are similar to FROM (~ to 2nd FROM clause). This caluse tells a query about an additional table from which you would pull data."
   ]
  },
  {
   "cell_type": "markdown",
   "metadata": {},
   "source": [
    "## ON clause:\n",
    "Specifies a logical statement to combine the table in from and join statement. "
   ]
  },
  {
   "cell_type": "markdown",
   "metadata": {},
   "source": [
    "**Entity Relationship Diagram (ERD)** is a common way to view data in a database. It holds the key in understanding how to pull data from multiple tables. "
   ]
  },
  {
   "cell_type": "markdown",
   "metadata": {},
   "source": [
    "**Primary Key (PK)** is a unique column in a particular table.  "
   ]
  },
  {
   "cell_type": "markdown",
   "metadata": {},
   "source": [
    "**Foreign Key (FK)** is a column in one table that is a primary key in some other table.  "
   ]
  },
  {
   "cell_type": "markdown",
   "metadata": {},
   "source": [
    "- In an SQL query to join two tables, one is in the FROM and the other is in the JOIN. Then in the ON, we will ALWAYs have the PK equal to the FK."
   ]
  },
  {
   "cell_type": "markdown",
   "metadata": {},
   "source": [
    "## JOIN more than two tables:\n",
    "- Same structure as joining two tables\n",
    "- JOIN followed by ON for 1st table; JOIN followed by ON for 2nd table."
   ]
  },
  {
   "cell_type": "markdown",
   "metadata": {},
   "source": [
    "## ALIASES:\n",
    "- It is easy, nice & efficient to give each table an *alias*.\n",
    "- **AS** can be used to define alias name or simply give a space and alias name."
   ]
  },
  {
   "cell_type": "markdown",
   "metadata": {},
   "source": [
    "## LEFT, RIGHT & FULL OUTER JOIN:\n",
    "- LEFT JOIN gives same result as INNER JOIN: Match across two tables\n",
    "- "
   ]
  },
  {
   "cell_type": "markdown",
   "metadata": {},
   "source": [
    "## <span style=\"color:green\"> Recap of SQL JOIN: </span>\n",
    "- **Primary Key (PK)**\n",
    "- **Foreign Key (FK)**\n",
    "- **JOIN** or an **INNER JOIN** only pulls data that exists in both tables. Similar to INTERSECTION between two sets (i.e., tables here!)\n",
    "- __Types of joins__:\n",
    "    - **LEFT JOIN** pulls data that exists in both tables, as well as all of the rows from the table in the **FROM** even if they do not exist in the **JOIN** statement. Similart to  \n",
    "    - **RIGHT JOIN** pulls data that exists in both tables, as well as all of the rows from the table in the **JOIN** even if they do not exist in the **FROM** statement. \n",
    "    - **FULL OUTER JOIN** same as INNER JOIN but with all unmatched data in **FROM** and **JOIN** statements. Use cases of this type of join are _very rare_.\n",
    "    \n",
    "- Advanced joins that are present and not covered: *UNION and UNION ALL*, *CROSS JOIN*, *SELF JOIN*.\n",
    "- Useful aliasing clause **AS**."
   ]
  },
  {
   "cell_type": "markdown",
   "metadata": {},
   "source": [
    "***"
   ]
  },
  {
   "cell_type": "markdown",
   "metadata": {},
   "source": [
    "# <span style=\"color:blue\"> 2.3 SQL Aggregating </span>"
   ]
  },
  {
   "cell_type": "markdown",
   "metadata": {},
   "source": [
    "These functions work across columns not rows. \n",
    "- **COUNT**: counts how many rows are in a particular column\n",
    "- **SUM**: adds all the values in a particular column\n",
    "- **MIN & MAX**: returns the lowest and highest values in a particular column\n",
    "- **AVERAGE**: returns average of all values in a particular column; Average function avoids NULLS completely both in numerator and denominator.\n",
    "- **NULLS**: zero or no value; Use *IS NULL* as it is a property of data not value.\n"
   ]
  },
  {
   "cell_type": "markdown",
   "metadata": {},
   "source": [
    "### GROUP BY Clause:\n",
    "- Allows creation of segments that will aggregate independent from one another."
   ]
  },
  {
   "cell_type": "markdown",
   "metadata": {},
   "source": [
    "### DISTINCT Clause:\n",
    "- Can be used instead of GROUP BY. "
   ]
  },
  {
   "cell_type": "markdown",
   "metadata": {},
   "source": [
    "### HAVING:\n",
    "- WHERE clause doesn't allow use to filter across aggregate column. HAVING clause can be used here!"
   ]
  },
  {
   "cell_type": "markdown",
   "metadata": {},
   "source": [
    "### DATE Function:\n",
    "A lot of information is generally withheld in datetime. Let's make our own way (for furture works) to systematically extract as much information as possible from date function. \n",
    "- We use DATE_TRUNC('day', col_datetime) to group by *day*.\n",
    "- We use DATE_TRUNC('month', col_datetime) to group by *month*.\n",
    "- We use DATE_TRUNC('year', col_datetime) to group by *year*.\n",
    "- We use DATE_TRUNC('second', col_datetime) to group by *second*.\n",
    "- We use DATE_TRUNC('dow', col_datetime) to group by *day of week*.\n",
    "- DATE_PART: has same functionality as DATE_TRUNC except that it only prints out the selected format i.e., day, mointh, year, second, dow etc.,"
   ]
  },
  {
   "cell_type": "markdown",
   "metadata": {},
   "source": [
    "### CASE Statement:\n",
    "- To create DERIVED/NEW columns \n",
    "- Follows a sequence of WHEN, THEN clauses & finishes with END ; i.e., Similar to using IF THEN "
   ]
  },
  {
   "cell_type": "markdown",
   "metadata": {},
   "source": [
    "## <span style=\"color:green\"> Recap of SQL JOINs and Aggregation: </span>\n",
    "- SQL is so powerful mainly due to the combination of JOINs and Aggregations."
   ]
  },
  {
   "cell_type": "markdown",
   "metadata": {},
   "source": [
    "***"
   ]
  },
  {
   "cell_type": "markdown",
   "metadata": {},
   "source": [
    "# <span style=\"color:blue\"> 2.4 SQL Subqueries & Table expressions </span>\n",
    "- Methods used to organize, speedup your SQL query. \n",
    "- Subqueries allows us to answer more complex questions than we can using a single database table. \n",
    "- "
   ]
  },
  {
   "cell_type": "markdown",
   "metadata": {},
   "source": [
    "## WITH-AS:\n",
    "- WITH table is commonly called as \"Common Table Expressions (CTEs)\"\n",
    "- WITH tab1 AS: to precalculate few important variables for later usage.\n",
    "- WITH can perform the same task a subquery.\n",
    "- All queries written using \"subquery mania\" can be written using WITH. \n",
    "- CTEs are easily readable, fast and reproducable."
   ]
  },
  {
   "cell_type": "markdown",
   "metadata": {},
   "source": [
    "***"
   ]
  },
  {
   "cell_type": "markdown",
   "metadata": {},
   "source": [
    "## Solutions: Practise questions from 'Subquery Mania'"
   ]
  },
  {
   "cell_type": "markdown",
   "metadata": {},
   "source": [
    "<span style=\"color:red\"> Problem-1: Provide the name of the sales_rep in each region with the largest amount of total_amt_usd sales. </span>"
   ]
  },
  {
   "cell_type": "markdown",
   "metadata": {},
   "source": [
    "```sql\n",
    "\n",
    "SELECT  T3.sales_rep_name, \n",
    "        T3.region_name, \n",
    "        T3.sum_total\n",
    "FROM\n",
    "    (SELECT region_name,\n",
    "            MAX(sum_total) max_total\n",
    "    FROM \n",
    "        (SELECT s.name sales_rep_name,\n",
    "                r.name region_name, \n",
    "                SUM(o.total_amt_usd) sum_total\n",
    "        FROM sales_reps AS s\n",
    "        JOIN region AS r\n",
    "            ON r.id = s.region_id\n",
    "        JOIN accounts AS a\n",
    "            ON s.id = a.sales_rep_id\n",
    "        JOIN orders AS o\n",
    "            ON a.id = o.account_id\n",
    "        GROUP BY s.name, r.name\n",
    "        ORDER BY sum_total) T1\n",
    "    GROUP BY region_name) T2\n",
    "JOIN\n",
    "    (SELECT s.name sales_rep_name,\n",
    "            r.name region_name, \n",
    "            SUM(o.total_amt_usd) sum_total\n",
    "    FROM sales_reps AS s\n",
    "    JOIN region AS r\n",
    "        ON r.id = s.region_id\n",
    "    JOIN accounts AS a\n",
    "        ON s.id = a.sales_rep_id\n",
    "    JOIN orders AS o\n",
    "        ON a.id = o.account_id\n",
    "    GROUP BY s.name, r.name\n",
    "    ORDER BY sum_total) T3\n",
    "ON T2.region_name = T3.region_name AND T2.max_total = T3.sum_total;\n",
    "\n",
    "```"
   ]
  },
  {
   "cell_type": "markdown",
   "metadata": {},
   "source": [
    "<span style=\"color:red\"> Problem-2: For the region with the largest (sum) of sales total_amt_usd, how many total (count) orders were placed? </span>"
   ]
  },
  {
   "cell_type": "markdown",
   "metadata": {},
   "source": [
    "```sql \n",
    "SELECT r.name region_name, \n",
    "       COUNT(o.total) count_total\n",
    "FROM sales_reps AS s\n",
    "JOIN region AS r\n",
    "    ON r.id = s.region_id\n",
    "JOIN accounts AS a\n",
    "    ON s.id = a.sales_rep_id\n",
    "JOIN orders AS o\n",
    "    ON a.id = o.account_id\n",
    "GROUP BY r.name\n",
    "HAVING SUM(o.total_amt_usd) = (SELECT MAX(sum_total) \n",
    "        FROM\n",
    "            (SELECT r.name region_name, \n",
    "                   SUM(o.total_amt_usd) sum_total\n",
    "            FROM sales_reps AS s\n",
    "            JOIN region AS r\n",
    "                ON r.id = s.region_id\n",
    "            JOIN accounts AS a\n",
    "                ON s.id = a.sales_rep_id\n",
    "            JOIN orders AS o\n",
    "                ON a.id = o.account_id\n",
    "            GROUP BY r.name) T);\n",
    "    \n",
    "```"
   ]
  },
  {
   "cell_type": "markdown",
   "metadata": {},
   "source": [
    "<span style=\"color:red\"> Problem-3: How many accounts had more total purchases than the account name which has bought the most standard_qty paper throughout their lifetime as a customer?  </span>"
   ]
  },
  {
   "cell_type": "markdown",
   "metadata": {},
   "source": [
    "```sql\n",
    "SELECT COUNT(*)\n",
    "FROM\n",
    "    (SELECT a.name AS act_name_gt\n",
    "    FROM accounts AS a\n",
    "    JOIN orders o\n",
    "        ON o.account_id = a.id\n",
    "    GROUP BY 1\n",
    "    HAVING SUM(o.total) >  \n",
    "        (SELECT sum_total\n",
    "        FROM \n",
    "            (SELECT  a.name AS account_name, \n",
    "                    SUM(o.standard_qty) AS sum_std_qty,\n",
    "                    SUM(o.total) AS sum_total\n",
    "            FROM accounts AS a \n",
    "            JOIN orders AS o\n",
    "            ON a.id = o.account_id\n",
    "            GROUP BY 1\n",
    "            ORDER BY 2 DESC\n",
    "            LIMIT 1\n",
    "            ) sq1 \n",
    "        )\n",
    "    ) sq2;\n",
    "\n",
    "```"
   ]
  },
  {
   "cell_type": "markdown",
   "metadata": {},
   "source": [
    "<span style=\"color:red\"> Problem-4: For the customer that spent the most (in total over their lifetime as a customer) total_amt_usd, how many web_events did they have for each channel? </span>"
   ]
  },
  {
   "cell_type": "markdown",
   "metadata": {},
   "source": [
    "```sql\n",
    "\n",
    "SELECT  a.name cname, \n",
    "        w.channel channel, \n",
    "        COUNT(*) count_events\n",
    "FROM accounts AS a\n",
    "JOIN web_events AS w\n",
    "    ON w.account_id = a.id AND a.id =\n",
    "    (SELECT aid\n",
    "    FROM \n",
    "        (SELECT  a.id AS aid,\n",
    "                SUM(o.total_amt_usd) AS sum_total\n",
    "        FROM orders AS o\n",
    "        JOIN accounts AS a\n",
    "            ON a.id = o.account_id\n",
    "        GROUP BY 1\n",
    "        ORDER BY 2 DESC \n",
    "        LIMIT 1\n",
    "        ) sq1\n",
    "    )\n",
    "    GROUP BY 1,2\n",
    "    ORDER BY 3 DESC;\n",
    "       \n",
    "\n",
    "```"
   ]
  },
  {
   "cell_type": "markdown",
   "metadata": {},
   "source": [
    "<span style=\"color:red\"> Problem-5: What is the lifetime average amount spent in terms of total_amt_usd for the top 10 total spending accounts? </span>"
   ]
  },
  {
   "cell_type": "markdown",
   "metadata": {},
   "source": [
    "```sql\n",
    "\n",
    "SELECT AVG(tot_spent) \n",
    "FROM \n",
    "    (SELECT  a.id, \n",
    "            a.name, \n",
    "            SUM(o.total_amt_usd) tot_spent\n",
    "    FROM accounts a\n",
    "    JOIN orders o\n",
    "        ON a.id = o.account_id\n",
    "        GROUP BY 1,2\n",
    "        ORDER BY 3 DESC\n",
    "        LIMIT 10\n",
    "    ) sq1\n",
    "```"
   ]
  },
  {
   "cell_type": "markdown",
   "metadata": {},
   "source": [
    "<span style=\"color:red\"> Problem-6: What is the lifetime average amount spent in terms of total_amt_usd, including only the companies that spent more per order, on average, than the average of all orders. </span>"
   ]
  },
  {
   "cell_type": "markdown",
   "metadata": {},
   "source": [
    "```sql\n",
    "\n",
    "SELECT AVG(avg_amt)\n",
    "FROM (SELECT o.account_id, AVG(o.total_amt_usd) avg_amt\n",
    "    FROM orders o\n",
    "    GROUP BY 1\n",
    "    HAVING AVG(o.total_amt_usd) > (SELECT AVG(o.total_amt_usd) avg_all\n",
    "                                   FROM orders o)) temp_table;\n",
    "\n",
    "\n",
    "```"
   ]
  },
  {
   "cell_type": "markdown",
   "metadata": {},
   "source": [
    "***"
   ]
  },
  {
   "cell_type": "markdown",
   "metadata": {},
   "source": [
    "# <span style=\"color:blue\"> 2.5 SQL Cleaning </span>"
   ]
  },
  {
   "cell_type": "markdown",
   "metadata": {},
   "source": [
    "- LEFT(str,nstr) function to pull *nstr* no. of characters from a string *str*. \n",
    "- Similarly, RIGHT(str,nstr) does the same on the right side of the string *str*.\n",
    "- LENGTH function gives out length of a string. \n"
   ]
  },
  {
   "cell_type": "markdown",
   "metadata": {},
   "source": [
    "- POSITION, STRPOS, SUBSTR: are used for string search\n",
    "- UPPER or LOWER to change string Format"
   ]
  },
  {
   "cell_type": "markdown",
   "metadata": {},
   "source": [
    "- CONCAT or ||: to perform concate two strings."
   ]
  },
  {
   "cell_type": "markdown",
   "metadata": {},
   "source": [
    "- CAST: Casting Month names into numbers!"
   ]
  },
  {
   "cell_type": "markdown",
   "metadata": {},
   "source": [
    "- COALESE: When treating NULLs different from 0s."
   ]
  },
  {
   "cell_type": "markdown",
   "metadata": {},
   "source": [
    "***"
   ]
  },
  {
   "cell_type": "markdown",
   "metadata": {},
   "source": [
    "# 2.6 <span style=\"color:blue\"> SQL Window Functions </span>"
   ]
  },
  {
   "cell_type": "code",
   "execution_count": null,
   "metadata": {},
   "outputs": [],
   "source": []
  }
 ],
 "metadata": {
  "kernelspec": {
   "display_name": "Python 3",
   "language": "python",
   "name": "python3"
  },
  "language_info": {
   "codemirror_mode": {
    "name": "ipython",
    "version": 3
   },
   "file_extension": ".py",
   "mimetype": "text/x-python",
   "name": "python",
   "nbconvert_exporter": "python",
   "pygments_lexer": "ipython3",
   "version": "3.7.5"
  }
 },
 "nbformat": 4,
 "nbformat_minor": 2
}
